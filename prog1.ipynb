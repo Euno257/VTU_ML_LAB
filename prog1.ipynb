{
  "nbformat": 4,
  "nbformat_minor": 0,
  "metadata": {
    "colab": {
      "name": "prog1.ipynb",
      "provenance": [],
      "authorship_tag": "ABX9TyOUPzcjWlcF3P6qAX4295nZ",
      "include_colab_link": true
    },
    "kernelspec": {
      "name": "python3",
      "display_name": "Python 3"
    }
  },
  "cells": [
    {
      "cell_type": "markdown",
      "metadata": {
        "id": "view-in-github",
        "colab_type": "text"
      },
      "source": [
        "<a href=\"https://colab.research.google.com/github/Euno257/VTU_ML_LAB/blob/main/prog1.ipynb\" target=\"_parent\"><img src=\"https://colab.research.google.com/assets/colab-badge.svg\" alt=\"Open In Colab\"/></a>"
      ]
    },
    {
      "cell_type": "code",
      "metadata": {
        "id": "GVtKOibvdqjX"
      },
      "source": [
        "import csv\r\n",
        "\r\n",
        "def read_file(filename):\r\n",
        "  with open(filename,\"r\") as csvfile:\r\n",
        "    datareader=csv.reader(csvfile,delimiter=\",\")\r\n",
        "    traindata=[]\r\n",
        "    for row in datareader:\r\n",
        "      traindata.append(row)\r\n",
        "  return traindata\r\n",
        "\r\n",
        "def findS():\r\n",
        "  data_arr=read_file('Enjoysport.csv')\r\n",
        "  h=['0','0','0','0','0','0']\r\n",
        "  rows=len(data_arr)\r\n",
        "  cols=7\r\n",
        "  \r\n",
        "  for x in range(1,rows):\r\n",
        "    t=data_arr[x]\r\n",
        "    print(t)\r\n",
        "    if(t[cols-1]=='1'):\r\n",
        "      for y in range(cols-1):\r\n",
        "        if(h[y]==t[y]):\r\n",
        "          pass\r\n",
        "        elif(h[y]!=t[y] and h[y]=='0'):\r\n",
        "          h[y]=t[y]\r\n",
        "        elif(h[y]!=t[y] and h[y]!='0'):\r\n",
        "          h[y]='?'\r\n",
        "      print(h)\r\n",
        "  print('Maximally specific set ')\r\n",
        "  for i in range(len(h)):\r\n",
        "    print(h[i],',',end=' ')\r\n",
        "\r\n",
        "findS()\r\n"
      ],
      "execution_count": null,
      "outputs": []
    }
  ]
}