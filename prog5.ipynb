{
  "nbformat": 4,
  "nbformat_minor": 0,
  "metadata": {
    "colab": {
      "name": "prog5.ipynb",
      "provenance": [],
      "authorship_tag": "ABX9TyOr4I8AfZqnyM7kI6iouKnZ",
      "include_colab_link": true
    },
    "kernelspec": {
      "name": "python3",
      "display_name": "Python 3"
    }
  },
  "cells": [
    {
      "cell_type": "markdown",
      "metadata": {
        "id": "view-in-github",
        "colab_type": "text"
      },
      "source": [
        "<a href=\"https://colab.research.google.com/github/Euno257/VTU_ML_LAB/blob/main/prog5.ipynb\" target=\"_parent\"><img src=\"https://colab.research.google.com/assets/colab-badge.svg\" alt=\"Open In Colab\"/></a>"
      ]
    },
    {
      "cell_type": "code",
      "metadata": {
        "colab": {
          "base_uri": "https://localhost:8080/"
        },
        "id": "eU6w8BL9Ijfv",
        "outputId": "bc0fe4d0-7e52-420c-9814-bf778ed43c64"
      },
      "source": [
        "import numpy as np \r\n",
        "import pandas as pd \r\n",
        "\r\n",
        "from sklearn.naive_bayes import GaussianNB\r\n",
        "from sklearn.preprocessing import LabelEncoder\r\n",
        "from sklearn.model_selection import train_test_split\r\n",
        "from sklearn import metrics \r\n",
        "\r\n",
        "url='https://raw.githubusercontent.com/devxpy/ml_lab/master/p5.csv'\r\n",
        "mush=pd.read_csv(url)\r\n",
        "mush.replace('?',np.nan,inplace=True)\r\n",
        "\r\n",
        "print(\"Initially:\",len(mush.columns),' columns. After dropping NA: ',len(mush.dropna(axis=1).columns),'columns')\r\n",
        "mush.dropna(axis=1,inplace=True)\r\n",
        "\r\n",
        "#Preprocessing\r\n",
        "labelencoder=LabelEncoder()\r\n",
        "for column in mush.columns:\r\n",
        "  mush[column]=labelencoder.fit_transform(mush[column])\r\n",
        "\r\n",
        "#features \r\n",
        "X=mush.drop(['class'],axis=1)\r\n",
        "y=mush['class']\r\n",
        "\r\n",
        "#Break the dataset \r\n",
        "xtrain,xtest,ytrain,ytest=train_test_split(X,y,random_state=47,test_size=0.3)\r\n",
        "\r\n",
        "\r\n",
        "#GaussianNB Model\r\n",
        "gnb=GaussianNB().fit(xtrain,ytrain)\r\n",
        "ypred= gnb.predict(xtest)\r\n",
        "\r\n",
        "print(\"Accuracy: \",metrics.accuracy_score(ytest,ypred))\r\n",
        "\r\n",
        "df=pd.DataFrame(xtest,columns=['xtest'])\r\n",
        "df['actual']=ytest\r\n",
        "df['predicted']=ypred\r\n",
        "print(df)\r\n",
        "correct=df[df['actual']==df['predicted']]\r\n",
        "print('{} correct out of {}'.format(len(correct),len(ytest)))\r\n"
      ],
      "execution_count": 3,
      "outputs": [
        {
          "output_type": "stream",
          "text": [
            "Initially: 23  columns. After dropping NA:  22 columns\n",
            "Accuracy:  0.9150943396226415\n",
            "      xtest  actual  predicted\n",
            "6894    NaN       1          1\n",
            "7326    NaN       1          1\n",
            "7270    NaN       0          0\n",
            "7496    NaN       1          1\n",
            "111     NaN       0          1\n",
            "...     ...     ...        ...\n",
            "3660    NaN       0          0\n",
            "1155    NaN       0          1\n",
            "3757    NaN       0          1\n",
            "3310    NaN       0          0\n",
            "3395    NaN       1          1\n",
            "\n",
            "[2438 rows x 3 columns]\n",
            "2231 correct out of 2438\n"
          ],
          "name": "stdout"
        }
      ]
    }
  ]
}