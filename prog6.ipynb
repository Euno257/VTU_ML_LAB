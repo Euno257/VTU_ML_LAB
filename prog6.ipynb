{
  "nbformat": 4,
  "nbformat_minor": 0,
  "metadata": {
    "colab": {
      "name": "prog6.ipynb",
      "provenance": [],
      "authorship_tag": "ABX9TyMv0ZQgv7Eh0+5vDkhLYsZd",
      "include_colab_link": true
    },
    "kernelspec": {
      "name": "python3",
      "display_name": "Python 3"
    }
  },
  "cells": [
    {
      "cell_type": "markdown",
      "metadata": {
        "id": "view-in-github",
        "colab_type": "text"
      },
      "source": [
        "<a href=\"https://colab.research.google.com/github/Euno257/VTU_ML_LAB/blob/main/prog6.ipynb\" target=\"_parent\"><img src=\"https://colab.research.google.com/assets/colab-badge.svg\" alt=\"Open In Colab\"/></a>"
      ]
    },
    {
      "cell_type": "code",
      "metadata": {
        "colab": {
          "base_uri": "https://localhost:8080/"
        },
        "id": "dKrbop-8SCId",
        "outputId": "81f4755b-ddd6-40dd-9f38-35cb5d9df537"
      },
      "source": [
        "import pandas as pd\r\n",
        "from sklearn.model_selection import train_test_split\r\n",
        "from sklearn.feature_extraction.text import CountVectorizer \r\n",
        "from sklearn.naive_bayes import MultinomialNB\r\n",
        "from sklearn import metrics \r\n",
        "\r\n",
        "url='https://raw.githubusercontent.com/devxpy/ml_lab/master/p6.csv'\r\n",
        "\r\n",
        "msg=pd.read_csv(url,names=[\"message\",\"label\"])\r\n",
        "X=msg.message\r\n",
        "y=msg.label.map({\"pos\":1,\"neg\":0})\r\n",
        "\r\n",
        "xtrain,xtest,ytrain,ytest=train_test_split(X,y)\r\n",
        "\r\n",
        "#Sparse Matrix\r\n",
        "count_vect=CountVectorizer()\r\n",
        "xtrain_dtm=count_vect.fit_transform(xtrain)\r\n",
        "xtest_dtm=count_vect.transform(xtest)\r\n",
        "\r\n",
        "#Matrix Representation\r\n",
        "df=pd.DataFrame(xtrain_dtm.toarray(),columns=count_vect.get_feature_names())\r\n",
        "print(\"Xtrain\",df.head(5))\r\n",
        "\r\n",
        "clf=MultinomialNB().fit(xtrain_dtm,ytrain)\r\n",
        "ypred=clf.predict(xtest_dtm)\r\n",
        "\r\n",
        "print(\"Accuracy\",metrics.accuracy_score(ytest,ypred))\r\n",
        "print(\"Confusion Matrix\",metrics.confusion_matrix(ytest,ypred))\r\n",
        "print(\"Recall Score\",metrics.recall_score(ytest,ypred))\r\n",
        "print(\"Precision Score\",metrics.precision_score(ytest,ypred))"
      ],
      "execution_count": 9,
      "outputs": [
        {
          "output_type": "stream",
          "text": [
            "Xtrain    about  am  amazing  an  and  bad  ...  we  went  what  will  with  work\n",
            "0      0   0        0   0    0    0  ...   0     1     0     0     0     0\n",
            "1      0   0        0   0    0    0  ...   0     0     0     0     0     1\n",
            "2      0   0        1   1    0    0  ...   0     0     0     0     0     0\n",
            "3      1   0        0   0    0    0  ...   0     0     0     0     0     0\n",
            "4      0   0        0   0    0    0  ...   1     0     0     1     0     0\n",
            "\n",
            "[5 rows x 51 columns]\n",
            "Accuracy 1.0\n",
            "Confusion Matrix [[2 0]\n",
            " [0 3]]\n",
            "Recall Score 1.0\n",
            "Precision Score 1.0\n"
          ],
          "name": "stdout"
        }
      ]
    }
  ]
}