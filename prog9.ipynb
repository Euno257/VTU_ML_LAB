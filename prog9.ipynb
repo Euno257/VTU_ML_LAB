{
  "nbformat": 4,
  "nbformat_minor": 0,
  "metadata": {
    "colab": {
      "name": "prog9.ipynb",
      "provenance": [],
      "authorship_tag": "ABX9TyN3218HC8OlsKxvhEsNMUg4",
      "include_colab_link": true
    },
    "kernelspec": {
      "name": "python3",
      "display_name": "Python 3"
    }
  },
  "cells": [
    {
      "cell_type": "markdown",
      "metadata": {
        "id": "view-in-github",
        "colab_type": "text"
      },
      "source": [
        "<a href=\"https://colab.research.google.com/github/Euno257/VTU_ML_LAB/blob/main/prog9.ipynb\" target=\"_parent\"><img src=\"https://colab.research.google.com/assets/colab-badge.svg\" alt=\"Open In Colab\"/></a>"
      ]
    },
    {
      "cell_type": "code",
      "metadata": {
        "colab": {
          "base_uri": "https://localhost:8080/"
        },
        "id": "hX9fYPKiFiGE",
        "outputId": "162f0dd8-efcb-48e9-cb56-0407af8235e4"
      },
      "source": [
        "from sklearn.datasets import load_iris\r\n",
        "from sklearn.neighbors import KNeighborsClassifier \r\n",
        "from sklearn.model_selection import train_test_split \r\n",
        "import numpy as np \r\n",
        "\r\n",
        "iris=load_iris()\r\n",
        "print('target iris names ',iris.target_names)\r\n",
        "xtrain,xtest,ytrain,ytest= train_test_split(iris.data,iris.target)\r\n",
        "\r\n",
        "kn= KNeighborsClassifier(n_neighbors=1)\r\n",
        "kn.fit(xtrain,ytrain)\r\n",
        "\r\n",
        "ypred=kn.predict(xtest)\r\n",
        "\r\n",
        "print('First Few Predictions: \\t Actual \\t\\t Predicted')\r\n",
        "for i in range(10):\r\n",
        "  print(\"\\t\\t\", iris.target_names[ytest[i]],'\\t\\t',iris.target_names[ypred[i]])\r\n",
        "\r\n",
        "from sklearn import metrics\r\n",
        "print(\"Accuracy\",metrics.accuracy_score(ytest,ypred))\r\n"
      ],
      "execution_count": 6,
      "outputs": [
        {
          "output_type": "stream",
          "text": [
            "target iris names  ['setosa' 'versicolor' 'virginica']\n",
            "First Few Predictions: \t Actual \t\t Predicted\n",
            "\t\t setosa \t\t setosa\n",
            "\t\t virginica \t\t virginica\n",
            "\t\t setosa \t\t setosa\n",
            "\t\t versicolor \t\t versicolor\n",
            "\t\t virginica \t\t virginica\n",
            "\t\t versicolor \t\t versicolor\n",
            "\t\t virginica \t\t virginica\n",
            "\t\t virginica \t\t virginica\n",
            "\t\t versicolor \t\t versicolor\n",
            "\t\t versicolor \t\t versicolor\n",
            "Accuracy 0.9210526315789473\n"
          ],
          "name": "stdout"
        }
      ]
    }
  ]
}