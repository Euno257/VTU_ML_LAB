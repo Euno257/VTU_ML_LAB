{
  "nbformat": 4,
  "nbformat_minor": 0,
  "metadata": {
    "colab": {
      "name": "prog2.ipynb",
      "provenance": [],
      "authorship_tag": "ABX9TyMY93UKlTVXVlmL0mrGgzXV",
      "include_colab_link": true
    },
    "kernelspec": {
      "name": "python3",
      "display_name": "Python 3"
    }
  },
  "cells": [
    {
      "cell_type": "markdown",
      "metadata": {
        "id": "view-in-github",
        "colab_type": "text"
      },
      "source": [
        "<a href=\"https://colab.research.google.com/github/Euno257/VTU_ML_LAB/blob/main/prog2.ipynb\" target=\"_parent\"><img src=\"https://colab.research.google.com/assets/colab-badge.svg\" alt=\"Open In Colab\"/></a>"
      ]
    },
    {
      "cell_type": "code",
      "metadata": {
        "id": "rBP_PpgiArDm"
      },
      "source": [
        "import csv\r\n",
        "data=[]\r\n",
        "with open('Enjoysport2.csv',\"r\") as csvfile:\r\n",
        "    datareader=csv.reader(csvfile)\r\n",
        "    for row in datareader:\r\n",
        "      data.append(row)\r\n",
        "      print(row)\r\n",
        "\r\n",
        "num_attr=len(data[0])-1\r\n",
        "print(\"Initial values of Hypothesis\")\r\n",
        "\r\n",
        "G=['?']*num_attr\r\n",
        "S=['0']*num_attr\r\n",
        "\r\n",
        "print('General Hypothesis ',G)\r\n",
        "print('Specific Hypothesis ',S)\r\n",
        "\r\n",
        "for i in range(num_attr):\r\n",
        "  S[i]=data[0][i]\r\n",
        "\r\n",
        "temp=[]\r\n",
        "for i in range(len(data)):\r\n",
        "  if(data[i][-1]==\"Yes\"):\r\n",
        "    for j in range(num_attr):\r\n",
        "      if(data[i][j]!=S[j]):\r\n",
        "        S[j]='?'\r\n",
        "\r\n",
        "    for j in range(num_attr):\r\n",
        "      for k in range(len(temp)):\r\n",
        "        if(temp[k][j]!=S[j] and temp[k][j]!='?'):\r\n",
        "          del temp[k]\r\n",
        "\r\n",
        "  print('For the training number {0} the Hypothesis is S{0}'.format(i+1),S)\r\n",
        "  if(len(temp)==0):\r\n",
        "    print('For the training number {0} the Hypothesis is G{0}'.format(i+1),G)\r\n",
        "  else:\r\n",
        "    print('For the training number {0} the Hypothesis is G{0}'.format(i+1),temp)\r\n",
        "\r\n",
        "  if(data[i][-1]=='No'):\r\n",
        "    for j in range(num_attr):\r\n",
        "      if(data[i][j]!=S[j] and S[j]!='?'):\r\n",
        "        G[j]=S[j]\r\n",
        "        temp.append(G)\r\n",
        "        G=['?']*num_attr\r\n",
        "  print('For the training number {0} the Hypothesis is S{0}'.format(i+1),S)\r\n",
        "  print('For the training number {0} the Hypothesis is G{0}'.format(i+1),temp)\r\n",
        "\r\n",
        "\r\n",
        "\r\n"
      ],
      "execution_count": null,
      "outputs": []
    }
  ]
}