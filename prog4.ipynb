{
  "nbformat": 4,
  "nbformat_minor": 0,
  "metadata": {
    "colab": {
      "name": "prog4.ipynb",
      "provenance": [],
      "authorship_tag": "ABX9TyMwxfVxUuFtM8EDW5ctaTo9",
      "include_colab_link": true
    },
    "kernelspec": {
      "name": "python3",
      "display_name": "Python 3"
    }
  },
  "cells": [
    {
      "cell_type": "markdown",
      "metadata": {
        "id": "view-in-github",
        "colab_type": "text"
      },
      "source": [
        "<a href=\"https://colab.research.google.com/github/Euno257/VTU_ML_LAB/blob/main/prog4.ipynb\" target=\"_parent\"><img src=\"https://colab.research.google.com/assets/colab-badge.svg\" alt=\"Open In Colab\"/></a>"
      ]
    },
    {
      "cell_type": "code",
      "metadata": {
        "colab": {
          "base_uri": "https://localhost:8080/"
        },
        "id": "UujSQvXIfjRl",
        "outputId": "bd5c8753-f3ad-45f8-eb10-7ffb568f752b"
      },
      "source": [
        "import numpy as np\r\n",
        "\r\n",
        "X=np.array(([2,9],[1,5],[3,6]))\r\n",
        "y=np.array(([92],[86],[89]))\r\n",
        "y=y/100\r\n",
        "\r\n",
        "def sigmoid(x):\r\n",
        "  return 1/(1+np.exp(-x))\r\n",
        "\r\n",
        "def derivatives_sigmoid(x):\r\n",
        "  return x*(1-x)\r\n",
        "\r\n",
        "epoch=1000  #Iterations \r\n",
        "lr=0.1      #learning rate \r\n",
        "input_neurons=2\r\n",
        "hidden_neurons=3\r\n",
        "output_neurons=1\r\n",
        "\r\n",
        "wt_hidden=np.random.uniform(size=(input_neurons,hidden_neurons))\r\n",
        "bias_hidden=np.random.uniform(size=(1,hidden_neurons))\r\n",
        "\r\n",
        "wt_output=np.random.uniform(size=(hidden_neurons,output_neurons))\r\n",
        "bias_output=np.random.uniform(size=(1,output_neurons))\r\n",
        "\r\n",
        "for i in range(epoch):\r\n",
        "  #Forward\r\n",
        "  hinp1=np.dot(X,wt_hidden)       \r\n",
        "  hinp=hinp1+bias_hidden              #hinp=X.wt_hidden + bias_hidden\r\n",
        "  hfinal=sigmoid(hinp)                #hfinal=sigmoid(hinp)\r\n",
        "\r\n",
        "  outinp1=np.dot(hfinal,wt_output)   \r\n",
        "  outinp=outinp1+bias_output          #outinp=hfinal.wt_output + bias_output\r\n",
        "  output=sigmoid(outinp)              #output=sigmoid(outinp)\r\n",
        "\r\n",
        "  #Backward \r\n",
        "  EO=y-output                          #Output-----> (Actual-predict)\r\n",
        "  outgrad=derivatives_sigmoid(output)       \r\n",
        "  d_output=EO*outgrad \r\n",
        "\r\n",
        "  EH=d_output.dot(wt_output.T)         #Hidden------> EH=(d_output).(wt_output.T)   \r\n",
        "  hiddengrad=derivatives_sigmoid(hfinal)\r\n",
        "  d_hidden=EH*hiddengrad\r\n",
        "\r\n",
        "  wt_output += hfinal.T.dot(d_output)*lr \r\n",
        "  bias_output += np.sum(d_output,axis=0,keepdims=True)*lr\r\n",
        "\r\n",
        "  wt_hidden += X.T.dot(d_hidden)*lr \r\n",
        "  bias_hidden += np.sum(d_hidden,axis=0,keepdims=True)*lr\r\n",
        "\r\n",
        "print(\"Input: \\n\"+str(X))\r\n",
        "print(\"Actual Output: \\n\"+str(y)) \r\n",
        "print(\"Predicted Output: \\n\",output) \r\n"
      ],
      "execution_count": 2,
      "outputs": [
        {
          "output_type": "stream",
          "text": [
            "Input: \n",
            "[[2 9]\n",
            " [1 5]\n",
            " [3 6]]\n",
            "Actual Output: \n",
            "[[0.92]\n",
            " [0.86]\n",
            " [0.89]]\n",
            "Predicted Output: \n",
            " [[0.8912255 ]\n",
            " [0.88793029]\n",
            " [0.89052725]]\n"
          ],
          "name": "stdout"
        }
      ]
    }
  ]
}