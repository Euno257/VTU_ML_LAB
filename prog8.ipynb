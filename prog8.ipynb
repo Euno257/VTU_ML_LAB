{
  "nbformat": 4,
  "nbformat_minor": 0,
  "metadata": {
    "colab": {
      "name": "prog8.ipynb",
      "provenance": [],
      "authorship_tag": "ABX9TyOFq5kf8bls9ugJwpHefEGZ",
      "include_colab_link": true
    },
    "kernelspec": {
      "name": "python3",
      "display_name": "Python 3"
    }
  },
  "cells": [
    {
      "cell_type": "markdown",
      "metadata": {
        "id": "view-in-github",
        "colab_type": "text"
      },
      "source": [
        "<a href=\"https://colab.research.google.com/github/Euno257/VTU_ML_LAB/blob/main/prog8.ipynb\" target=\"_parent\"><img src=\"https://colab.research.google.com/assets/colab-badge.svg\" alt=\"Open In Colab\"/></a>"
      ]
    },
    {
      "cell_type": "code",
      "metadata": {
        "colab": {
          "base_uri": "https://localhost:8080/",
          "height": 880
        },
        "id": "951xQiWCMI80",
        "outputId": "955747ec-97f1-46ba-eb11-e32d878031a0"
      },
      "source": [
        "import numpy as np\r\n",
        "import pandas as pd \r\n",
        "from matplotlib import pyplot as plt\r\n",
        "from sklearn.mixture import GaussianMixture \r\n",
        "from sklearn.cluster import KMeans \r\n",
        "\r\n",
        "url='https://raw.githubusercontent.com/devxpy/ml_lab/master/p8.csv'\r\n",
        "data=pd.read_csv(url)\r\n",
        "\r\n",
        "f1=data.V1.values\r\n",
        "f2=data.V2.values \r\n",
        "X=np.array(list(zip(f1,f2)))\r\n",
        "\r\n",
        "print('Graph of whole dataset')\r\n",
        "plt.scatter(f1,f2,c='black',s=50)\r\n",
        "plt.show()\r\n",
        "\r\n",
        "\r\n",
        "#KMeans\r\n",
        "kmeans=KMeans(2,random_state=0)\r\n",
        "labels=kmeans.fit_predict(X)\r\n",
        "centroid=kmeans.cluster_centers_\r\n",
        "print('Labels',labels)\r\n",
        "\r\n",
        "print('\\n Graph using KMeans')\r\n",
        "plt.scatter(X[:,0],X[:,1],s=50)\r\n",
        "plt.scatter(centroid[:,0],centroid[:,1],marker='*',s=50)\r\n",
        "plt.show()\r\n",
        "\r\n",
        "#GMM\r\n",
        "gmm=GaussianMixture(n_components=2)\r\n",
        "labels=gmm.fit_predict(X)\r\n",
        "print('Labels',labels)\r\n",
        "\r\n",
        "print('\\n Graph using GMM')\r\n",
        "plt.scatter(X[:,0],X[:,1],s=50)\r\n",
        "plt.show()"
      ],
      "execution_count": 1,
      "outputs": [
        {
          "output_type": "stream",
          "text": [
            "Graph of whole dataset\n"
          ],
          "name": "stdout"
        },
        {
          "output_type": "display_data",
          "data": {
            "image/png": "[encoded data removed]",
            "text/plain": [
              "<Figure size 432x288 with 1 Axes>"
            ]
          },
          "metadata": {
            "tags": [],
            "needs_background": "light"
          }
        },
        {
          "output_type": "stream",
          "text": [
            "Labels [1 1 0 0 0 0 0]\n",
            "\n",
            " Graph using KMeans\n"
          ],
          "name": "stdout"
        },
        {
          "output_type": "display_data",
          "data": {
            "image/png": "[encoded data removed]",
            "text/plain": [
              "<Figure size 432x288 with 1 Axes>"
            ]
          },
          "metadata": {
            "tags": [],
            "needs_background": "light"
          }
        },
        {
          "output_type": "stream",
          "text": [
            "Labels [0 0 1 1 1 1 1]\n",
            "\n",
            " Graph using GMM\n"
          ],
          "name": "stdout"
        },
        {
          "output_type": "display_data",
          "data": {
            "image/png": "[encoded data removed]",
            "text/plain": [
              "<Figure size 432x288 with 1 Axes>"
            ]
          },
          "metadata": {
            "tags": [],
            "needs_background": "light"
          }
        }
      ]
    }
  ]
}