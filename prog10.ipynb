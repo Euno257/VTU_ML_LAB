{
  "nbformat": 4,
  "nbformat_minor": 0,
  "metadata": {
    "colab": {
      "name": "prog10.ipynb",
      "provenance": [],
      "authorship_tag": "ABX9TyNgcDbVIz+lSDiJSzqoWeBw",
      "include_colab_link": true
    },
    "kernelspec": {
      "name": "python3",
      "display_name": "Python 3"
    }
  },
  "cells": [
    {
      "cell_type": "markdown",
      "metadata": {
        "id": "view-in-github",
        "colab_type": "text"
      },
      "source": [
        "<a href=\"https://colab.research.google.com/github/Euno257/VTU_ML_LAB/blob/main/prog10.ipynb\" target=\"_parent\"><img src=\"https://colab.research.google.com/assets/colab-badge.svg\" alt=\"Open In Colab\"/></a>"
      ]
    },
    {
      "cell_type": "code",
      "metadata": {
        "colab": {
          "base_uri": "https://localhost:8080/",
          "height": 279
        },
        "id": "xF_X-zBO_sf7",
        "outputId": "80e76f3b-c9d8-4feb-863a-8e3b462b01e6"
      },
      "source": [
        "import numpy as np\r\n",
        "import pandas as pd\r\n",
        "import matplotlib.pyplot as plt\r\n",
        "\r\n",
        "def main():\r\n",
        "  url='https://raw.githubusercontent.com/devxpy/ml_lab/master/p10.csv'\r\n",
        "\r\n",
        "  df=pd.read_csv(url)\r\n",
        "  X=df.total_bill.values\r\n",
        "  y=df.tip.values\r\n",
        "\r\n",
        "  sort_idx=X.argsort()\r\n",
        "  X=X[sort_idx]\r\n",
        "  y=y[sort_idx]\r\n",
        "  ypred=local_weight_regression(X,y,10)\r\n",
        "\r\n",
        "  plt.scatter(X,y,c=\"green\")\r\n",
        "  plt.plot(X,ypred,c=\"red\")\r\n",
        "  plt.xlabel(\"Total Bill\")\r\n",
        "  plt.ylabel(\"Tip\")\r\n",
        "  plt.show()\r\n",
        "\r\n",
        "def local_weight_regression(X,y,k):\r\n",
        "  X=np.array([np.ones(len(X)),X]).T\r\n",
        "  return np.array([x @ local_weight(x,X,y,k) for x in X])\r\n",
        "\r\n",
        "def local_weight(x,X,y,k):\r\n",
        "  weights=kernel(x,X,k)\r\n",
        "  W=np.linalg.inv(X.T @ (weights @ X)) @ (X.T @ (weights @ y))\r\n",
        "  return W\r\n",
        "\r\n",
        "def kernel(x,X,k):\r\n",
        "  weights=np.eye(len(X))\r\n",
        "  for i in range(len(X)):\r\n",
        "    d=x-X[i]\r\n",
        "    weights[i,i]=np.exp(d @ d.T/(-2 * k ** 2))\r\n",
        "  return weights\r\n",
        "\r\n",
        "main()\r\n"
      ],
      "execution_count": 1,
      "outputs": [
        {
          "output_type": "display_data",
          "data": {
            "image/png": "[encoded data removed]",
            "text/plain": [
              "<Figure size 432x288 with 1 Axes>"
            ]
          },
          "metadata": {
            "tags": [],
            "needs_background": "light"
          }
        }
      ]
    }
  ]
}